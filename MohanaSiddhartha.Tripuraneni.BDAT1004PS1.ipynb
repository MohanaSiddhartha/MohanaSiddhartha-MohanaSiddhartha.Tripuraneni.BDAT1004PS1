{
 "cells": [
  {
   "cell_type": "markdown",
   "metadata": {},
   "source": [
    "#  Problem Set 1"
   ]
  },
  {
   "cell_type": "markdown",
   "metadata": {},
   "source": [
    "## Question 1\n"
   ]
  },
  {
   "cell_type": "markdown",
   "metadata": {},
   "source": [
    "**What data type is each of the following?**"
   ]
  },
  {
   "cell_type": "markdown",
   "metadata": {},
   "source": [
    "We can use **type()** function to pass the following objects in the brackets to find the datatype"
   ]
  },
  {
   "cell_type": "code",
   "execution_count": 1,
   "metadata": {},
   "outputs": [
    {
     "data": {
      "text/plain": [
       "int"
      ]
     },
     "execution_count": 1,
     "metadata": {},
     "output_type": "execute_result"
    }
   ],
   "source": [
    "type(5)                 #Integer value.   "
   ]
  },
  {
   "cell_type": "code",
   "execution_count": 2,
   "metadata": {},
   "outputs": [
    {
     "data": {
      "text/plain": [
       "float"
      ]
     },
     "execution_count": 2,
     "metadata": {},
     "output_type": "execute_result"
    }
   ],
   "source": [
    "type(5.0)               #Any Decimal Value is Floating point real values."
   ]
  },
  {
   "cell_type": "code",
   "execution_count": 3,
   "metadata": {},
   "outputs": [
    {
     "data": {
      "text/plain": [
       "bool"
      ]
     },
     "execution_count": 3,
     "metadata": {},
     "output_type": "execute_result"
    }
   ],
   "source": [
    "type(5>1)               #All the Comparision operators produce boolean values."
   ]
  },
  {
   "cell_type": "code",
   "execution_count": 4,
   "metadata": {},
   "outputs": [
    {
     "data": {
      "text/plain": [
       "str"
      ]
     },
     "execution_count": 4,
     "metadata": {},
     "output_type": "execute_result"
    }
   ],
   "source": [
    "type('5')               #Anything represented in single or double quotation marks are strings."
   ]
  },
  {
   "cell_type": "code",
   "execution_count": 5,
   "metadata": {},
   "outputs": [
    {
     "data": {
      "text/plain": [
       "int"
      ]
     },
     "execution_count": 5,
     "metadata": {},
     "output_type": "execute_result"
    }
   ],
   "source": [
    "type(5*2)               #Multiplication of any two integer objects will always result in integer object."
   ]
  },
  {
   "cell_type": "code",
   "execution_count": 6,
   "metadata": {},
   "outputs": [
    {
     "data": {
      "text/plain": [
       "str"
      ]
     },
     "execution_count": 6,
     "metadata": {},
     "output_type": "execute_result"
    }
   ],
   "source": [
    "type('5' * 2)           #Multiplication with string object with produce sting value."
   ]
  },
  {
   "cell_type": "code",
   "execution_count": 7,
   "metadata": {},
   "outputs": [
    {
     "data": {
      "text/plain": [
       "str"
      ]
     },
     "execution_count": 7,
     "metadata": {},
     "output_type": "execute_result"
    }
   ],
   "source": [
    "type('5' + '2')         #Addition of two string objects also produce sting value."
   ]
  },
  {
   "cell_type": "code",
   "execution_count": 8,
   "metadata": {},
   "outputs": [
    {
     "data": {
      "text/plain": [
       "float"
      ]
     },
     "execution_count": 8,
     "metadata": {},
     "output_type": "execute_result"
    }
   ],
   "source": [
    "type(5 / 2)             #Quotient for 5/2 is 2.5 which is decimal value so it is float."
   ]
  },
  {
   "cell_type": "code",
   "execution_count": 9,
   "metadata": {},
   "outputs": [
    {
     "data": {
      "text/plain": [
       "int"
      ]
     },
     "execution_count": 9,
     "metadata": {},
     "output_type": "execute_result"
    }
   ],
   "source": [
    "type(5 // 2)            #// represents reminder, in this case 5 // 2 is 1 which is integer value."
   ]
  },
  {
   "cell_type": "code",
   "execution_count": 10,
   "metadata": {},
   "outputs": [
    {
     "data": {
      "text/plain": [
       "list"
      ]
     },
     "execution_count": 10,
     "metadata": {},
     "output_type": "execute_result"
    }
   ],
   "source": [
    "type([5, 2, 1])          #lists are represented in square brackets [ ]."
   ]
  },
  {
   "cell_type": "code",
   "execution_count": 11,
   "metadata": {},
   "outputs": [
    {
     "data": {
      "text/plain": [
       "bool"
      ]
     },
     "execution_count": 11,
     "metadata": {},
     "output_type": "execute_result"
    }
   ],
   "source": [
    "type(5 in [1, 4, 6])     #We are asking to search 5 in given list.As the 5 do not exist,it is False.False is boolean value."
   ]
  },
  {
   "cell_type": "code",
   "execution_count": 12,
   "metadata": {},
   "outputs": [
    {
     "ename": "NameError",
     "evalue": "name 'math' is not defined",
     "output_type": "error",
     "traceback": [
      "\u001b[1;31m---------------------------------------------------------------------------\u001b[0m",
      "\u001b[1;31mNameError\u001b[0m                                 Traceback (most recent call last)",
      "\u001b[1;32m<ipython-input-12-59c545c88b08>\u001b[0m in \u001b[0;36m<module>\u001b[1;34m\u001b[0m\n\u001b[1;32m----> 1\u001b[1;33m \u001b[0mtype\u001b[0m\u001b[1;33m(\u001b[0m\u001b[0mmath\u001b[0m\u001b[1;33m.\u001b[0m\u001b[0mpi\u001b[0m\u001b[1;33m)\u001b[0m           \u001b[1;31m#Without including math library.\u001b[0m\u001b[1;33m\u001b[0m\u001b[1;33m\u001b[0m\u001b[0m\n\u001b[0m",
      "\u001b[1;31mNameError\u001b[0m: name 'math' is not defined"
     ]
    }
   ],
   "source": [
    "type(math.pi)           #Without including math library."
   ]
  },
  {
   "cell_type": "markdown",
   "metadata": {},
   "source": [
    "*In the above cell, the traceback error occured because pi comes under math library and we did not import the math library. Thus the traceback error took place.*"
   ]
  },
  {
   "cell_type": "code",
   "execution_count": 13,
   "metadata": {},
   "outputs": [
    {
     "data": {
      "text/plain": [
       "float"
      ]
     },
     "execution_count": 13,
     "metadata": {},
     "output_type": "execute_result"
    }
   ],
   "source": [
    "import math             #Including Math Library.\n",
    "type(math.pi)           #pi value is 3.141592653589793(decimal value).Hence we got output as float."
   ]
  },
  {
   "cell_type": "markdown",
   "metadata": {},
   "source": [
    "**Finally the datatypes of all the given objects in the question are as follows**"
   ]
  },
  {
   "cell_type": "markdown",
   "metadata": {},
   "source": [
    "|Object||Datatype|\n",
    "|------||---------------------------|\n",
    "|5||Integer value|\n",
    "|5.0||Floating Point Real Value |\n",
    "|5>1||Boolean Value|\n",
    "|'5'||String Value|\n",
    "|5*2||Integer Value|\n",
    "|'5' * 2||String Value|\n",
    "|'5' + '2'||String Value|\n",
    "|5 / 2||Floating Point Real Value|\n",
    "|5 // 2||Integer value|\n",
    "|[5,2,1]||List|\n",
    "|5 in [1,4,6]||Boolean Value|\n",
    "|math.pi||Floating Point Real Value|"
   ]
  },
  {
   "cell_type": "markdown",
   "metadata": {},
   "source": [
    "## Question 2"
   ]
  },
  {
   "cell_type": "markdown",
   "metadata": {},
   "source": [
    "**Write (and evaluate) Python expressions that answer these questions:**\n",
    "\n",
    "a.  How many letters are there in 'Supercalifragilisticexpialidocious'?\n",
    "\n",
    "b.  Does 'Supercalifragilisticexpialidocious' contain 'ice' as a substring?\n",
    "\n",
    "c.  Which of the following words is the longest: Supercalifragilisticexpialidocious, Honorificabilitudinitatibus,or Bababadalgharaghtakamminarronnkonn?\n",
    "\n",
    "d.  Which composer comes first in the dictionary: 'Berlioz', 'Borodin', 'Brian', 'Bartok', 'Bellini', 'Buxtehude', 'Bernstein'. Which one comes last?"
   ]
  },
  {
   "cell_type": "code",
   "execution_count": 17,
   "metadata": {},
   "outputs": [
    {
     "name": "stdout",
     "output_type": "stream",
     "text": [
      "a.The Number of letters in the word Supercalifragilisticexpialidocious is 34\n",
      "b.The word 'Supercalifragilisticexpialidocious'does not contains 'ice' as substring.\n",
      "c.Longest word in the set of words is  Supercalifragilisticexpialidocious.\n",
      "d.The First Composer in the Dictionary is Bartok.\n",
      "  The Last Composer in the Dictionary is Buxtehude.\n"
     ]
    }
   ],
   "source": [
    "#How many letters are there in 'Supercalifragilisticexpialidocious'?\n",
    "word = 'Supercalifragilisticexpialidocious'        #Variable Declaration    \n",
    "print ('a.The Number of letters in the word Supercalifragilisticexpialidocious is' ,len(word)) \n",
    "#len() function is used on mentioned string which gives the length(same as number of characters in this case). \n",
    "\n",
    "\n",
    "#Does 'Supercalifragilisticexpialidocious' contain 'ice' as a substring?\n",
    "Word = 'Supercalifragilisticexpialidocious'  \n",
    "if word.find('ice') == 1:  #condition using if statement to see if ice really exist in Supercalifragilisticexpialidocious\n",
    "   print (\"b.The word 'Supercalifragilisticexpialidocious' contains 'ice' as substring.\") \n",
    "   #(intended code block) if condition is true, prints ice is in Supercalifragilisticexpialidocious.\n",
    "print(\"b.The word 'Supercalifragilisticexpialidocious'does not contains 'ice' as substring.\") \n",
    "#(unintended code block) if condition is false, prints ice is not in Supercalifragilisticexpialidocious.\n",
    "\n",
    "\n",
    "#Which of the following words is the longest: Supercalifragilisticexpialidocious, Honorificabilitudinitatibus,or Bababadalgharaghtakamminarronnkonn?\n",
    "List_of_Words = ['Supercalifragilisticexpialidocious','Honorificabilitudinitatibus','Bababadalgharaghtakamminarronnkonn']\n",
    "Longest_Word = max(List_of_Words, key = len)  \n",
    "#Key returns lenght of each string in list and max selects the biggest key length\n",
    "print (\"c.Longest word in the set of words is  \"+Longest_Word+\".\")\n",
    "#printing the largest string value from list of strings.\n",
    "\n",
    "\n",
    "#Which composer comes first in the dictionary: 'Berlioz', 'Borodin', 'Brian', 'Bartok', 'Bellini', 'Buxtehude', 'Bernstein'. Which one comes last?\n",
    "SortList=['Berlioz', 'Borodin', 'Brian', 'Bartok', 'Bellini', 'Buxtehude', 'Bernstein']\n",
    "SortList.sort()\n",
    "#String function to sort strings in dictionary order.\n",
    "print('d.The First Composer in the Dictionary is ' + SortList[0] + \".\")\n",
    "#prints the first name in the list of string after the sort.\n",
    "print('  The Last Composer in the Dictionary is ' + SortList[-1] + \".\")\n",
    "#prints the last name in the list of string after the sort.\n"
   ]
  },
  {
   "cell_type": "markdown",
   "metadata": {},
   "source": [
    "# Question 3"
   ]
  },
  {
   "cell_type": "markdown",
   "metadata": {},
   "source": [
    "**a.Write a function inside (x,y,x1,y1,x2,y2) that returns True or False depending on whether the point (x,y)lies in the rectangle with lower left corner (x1,y1)and upper right corner (x2,y2).**\n",
    "\n",
    "**b.Use function inside() from part a. to write an expression that tests whether the point (1,1) lies in both of the following rectangles: one with lower left corner (0.3, 0.5) and upper right corner (1.1, 0.7) and the other with lower left corner (0.5, 0.2) and upper right corner (1.1, 2).**"
   ]
  },
  {
   "cell_type": "code",
   "execution_count": 52,
   "metadata": {},
   "outputs": [
    {
     "name": "stdout",
     "output_type": "stream",
     "text": [
      "a.False\n",
      "b.Point(1,1) is not inside in both rectangles, lower left corner (x1,y1)and upper right corner (x2,y2)\n"
     ]
    }
   ],
   "source": [
    "def inside(x,y,x1,y1,x2,y2):                                      #User-Defined Function Creation\n",
    "    \"function to check  point (x,y) lies in rectangle\"            #Docstring Creation\n",
    "    return( x >= x1 and x <= x2 and y >= y1 and y <= y2)  \n",
    "if(inside(1,1,0.3,0.5,1.1,0.7) and inside(1,1,0.5,0.2,1.1,2)):\n",
    "    print('a. True')                                             #prints Sub-Question a result\n",
    "    print('b.Point(1,1) is inside in both rectangles, lower left corner (x1,y1)and upper right corner (x2,y2)')\n",
    "    #prints Sub-Question b result\n",
    "else:\n",
    "    print('a.False')                                             #prints Sub-Question a result\n",
    "    print('b.Point(1,1) is not inside in both rectangles, lower left corner (x1,y1)and upper right corner (x2,y2)')\n",
    "    #prints Sub-Question b result"
   ]
  },
  {
   "cell_type": "markdown",
   "metadata": {},
   "source": [
    "# Question 4\n",
    "\n",
    "**You can turn a word into pig-Latin using the following two rules (simplified):**\n",
    "\n",
    "\n",
    "**•If the word starts with a consonant, move that letter to the end and append 'ay'. For example, 'happy' becomes 'appyhay' and'pencil' becomes 'encilpay'.**\n",
    "\n",
    "\n",
    "**•If the word starts with a vowel, simply append 'way' to the end of the word. For example, 'enter' becomes 'enterway' and 'other' becomes 'otherway'.**\n",
    "\n",
    "\n",
    "**For our purposes, there are 5 vowels: a, e, i, o, u (so we count y as a consonant).Write a function pig()that takes a word (i.e., a string) as input and returns its pig-Latin form. Your function should still work if the input word contains upper case characters. Your output should always be lower case however.**"
   ]
  },
  {
   "cell_type": "code",
   "execution_count": 8,
   "metadata": {},
   "outputs": [],
   "source": [
    "def pig(string):                                          #User-Defined Function Creation .\n",
    "    \"Function to convert string to pig-latin version\"     #Docstring Creation.\n",
    "    vowels=[\"a\",\"e\",\"i\",\"o\",\"u\"]                          #list of vowels.\n",
    "    lowerString=string.lower()\n",
    "    if(lowerString[0]  in vowels):\n",
    "        return lowerString+\"way\"\n",
    "    else:\n",
    "        return lowerString[1:]+lowerString[0]+\"ay\""
   ]
  },
  {
   "cell_type": "code",
   "execution_count": 9,
   "metadata": {},
   "outputs": [
    {
     "name": "stdout",
     "output_type": "stream",
     "text": [
      "appyhay\n"
     ]
    }
   ],
   "source": [
    "print(pig('happy'))"
   ]
  },
  {
   "cell_type": "code",
   "execution_count": 11,
   "metadata": {},
   "outputs": [
    {
     "name": "stdout",
     "output_type": "stream",
     "text": [
      "encilpay\n"
     ]
    }
   ],
   "source": [
    "print(pig('pencil'))"
   ]
  },
  {
   "cell_type": "code",
   "execution_count": 10,
   "metadata": {},
   "outputs": [
    {
     "name": "stdout",
     "output_type": "stream",
     "text": [
      "enterway\n"
     ]
    }
   ],
   "source": [
    "print(pig('Enter'))"
   ]
  },
  {
   "cell_type": "code",
   "execution_count": 12,
   "metadata": {},
   "outputs": [
    {
     "name": "stdout",
     "output_type": "stream",
     "text": [
      "otherway\n"
     ]
    }
   ],
   "source": [
    "print(pig('other'))"
   ]
  },
  {
   "cell_type": "markdown",
   "metadata": {},
   "source": [
    "# Question 5\n",
    "\n",
    "**File bloodtype1.txt records blood-typesof patients (A, B, AB, O or OO) at a clinic. Write a function bldcount()that reads the file with namenameand reports (i.e., prints) how many patients there are in each bloodtype.**"
   ]
  },
  {
   "cell_type": "code",
   "execution_count": 51,
   "metadata": {},
   "outputs": [],
   "source": [
    "def bldcount(fileTxt):                                                        #User-Defined Function Creation.\n",
    "    \"Function to count of Blood types of patients from given text file\"       #Docstring Creation.\n",
    "    f = open(fileTxt,\"r\")                                                     #opens and reads the file filetxt.\n",
    "    splitedData = f.read().split();\n",
    "    bloodTypeList=['A','B','AB','O','OO']                                     #List created for all blood types.\n",
    "    showString=\"\"\n",
    "    for bloodType in bloodTypeList:\n",
    "        if(splitedData.count(bloodType)==0):\n",
    "            showString=showString+(\"There are no patients of blood type \"+bloodType+\". \\n\"\n",
    ")\n",
    "        elif(splitedData.count(bloodType)==1):\n",
    "            showString=showString+(\"There is one patients of blood type \"+bloodType+\".\"\n",
    "+\" \\n \")\n",
    "        elif(splitedData.count(bloodType)>1):\n",
    "            showString=showString+(\"There are \"+str(splitedData.count(bloodType))+\" patients of blood type \"+bloodType+\".\"+\" \\n \")\n",
    "    f.close()\n",
    "    return showString\n"
   ]
  },
  {
   "cell_type": "code",
   "execution_count": 52,
   "metadata": {},
   "outputs": [
    {
     "data": {
      "text/plain": [
       "'There are 15 patients of blood type A. \\n There is one patients of blood type B. \\n There are 13 patients of blood type AB. \\n There are 15 patients of blood type O. \\n There are no patients of blood type OO. \\n'"
      ]
     },
     "execution_count": 52,
     "metadata": {},
     "output_type": "execute_result"
    }
   ],
   "source": [
    "bldcount('bloodtype1.txt')"
   ]
  },
  {
   "cell_type": "markdown",
   "metadata": {},
   "source": [
    "# Question 6\n",
    "\n",
    "**Write a function curconv()that takes as input:**\n",
    "\n",
    "1.a currency represented using a string(e.g., 'JPY'for the Japanese Yen or 'EUR' for the Euro)\n",
    "\n",
    "2.an amountandthen converts and returns the amount in US dollars."
   ]
  },
  {
   "cell_type": "code",
   "execution_count": 26,
   "metadata": {},
   "outputs": [],
   "source": [
    "def  curconv(country,amount):                                                 #User-Defined Function Creation.\n",
    "    \"function to convert foreign currency to USD\"                             #Docstring Creation.\n",
    "    f = open(\"currencies.txt\",\"r\")                                            #Opens and reads the file currencies.txt.\n",
    "    line = f.readline()\n",
    "    allData=[]\n",
    "    value=0\n",
    "    while line:\n",
    "        allData.append((line.strip().split())[0:2])\n",
    "        line = f.readline()\n",
    "    for x in allData:\n",
    "        if (x[0]==country):\n",
    "            value=float(x[1])*amount\n",
    "    f.close()\n",
    "    return value\n"
   ]
  },
  {
   "cell_type": "code",
   "execution_count": 27,
   "metadata": {},
   "outputs": [
    {
     "data": {
      "text/plain": [
       "122.96544"
      ]
     },
     "execution_count": 27,
     "metadata": {},
     "output_type": "execute_result"
    }
   ],
   "source": [
    "curconv('EUR', 100)"
   ]
  },
  {
   "cell_type": "code",
   "execution_count": 28,
   "metadata": {},
   "outputs": [
    {
     "data": {
      "text/plain": [
       "1.241401"
      ]
     },
     "execution_count": 28,
     "metadata": {},
     "output_type": "execute_result"
    }
   ],
   "source": [
    "curconv('JPY', 100)"
   ]
  },
  {
   "cell_type": "markdown",
   "metadata": {},
   "source": [
    "# Question 7"
   ]
  },
  {
   "cell_type": "markdown",
   "metadata": {},
   "source": [
    "**Each of the following will cause an exception (an error). Identify what type of exception each will cause.**"
   ]
  },
  {
   "cell_type": "code",
   "execution_count": 21,
   "metadata": {},
   "outputs": [
    {
     "ename": "TypeError",
     "evalue": "unsupported operand type(s) for +: 'int' and 'str'",
     "output_type": "error",
     "traceback": [
      "\u001b[1;31m---------------------------------------------------------------------------\u001b[0m",
      "\u001b[1;31mTypeError\u001b[0m                                 Traceback (most recent call last)",
      "\u001b[1;32m<ipython-input-21-9144bb174214>\u001b[0m in \u001b[0;36m<module>\u001b[1;34m\u001b[0m\n\u001b[0;32m      1\u001b[0m \u001b[1;31m#Trying to add incompatible variables, as in adding 6 + 'a'\u001b[0m\u001b[1;33m\u001b[0m\u001b[1;33m\u001b[0m\u001b[1;33m\u001b[0m\u001b[0m\n\u001b[0;32m      2\u001b[0m \u001b[0ma\u001b[0m \u001b[1;33m=\u001b[0m \u001b[1;34m'apple'\u001b[0m\u001b[1;33m\u001b[0m\u001b[1;33m\u001b[0m\u001b[0m\n\u001b[1;32m----> 3\u001b[1;33m \u001b[0mb\u001b[0m \u001b[1;33m=\u001b[0m \u001b[1;36m6\u001b[0m \u001b[1;33m+\u001b[0m \u001b[1;34m'a'\u001b[0m\u001b[1;33m\u001b[0m\u001b[1;33m\u001b[0m\u001b[0m\n\u001b[0m",
      "\u001b[1;31mTypeError\u001b[0m: unsupported operand type(s) for +: 'int' and 'str'"
     ]
    }
   ],
   "source": [
    "#Trying to add incompatible variables, as in adding 6 + 'a' \n",
    "a = 'apple'\n",
    "b = 6 + 'a'\n",
    "#TypeError because addition is not possible between incompatible variable to a integer."
   ]
  },
  {
   "cell_type": "code",
   "execution_count": 37,
   "metadata": {},
   "outputs": [
    {
     "ename": "IndexError",
     "evalue": "list index out of range",
     "output_type": "error",
     "traceback": [
      "\u001b[1;31m---------------------------------------------------------------------------\u001b[0m",
      "\u001b[1;31mIndexError\u001b[0m                                Traceback (most recent call last)",
      "\u001b[1;32m<ipython-input-37-46137e2f3262>\u001b[0m in \u001b[0;36m<module>\u001b[1;34m\u001b[0m\n\u001b[0;32m      1\u001b[0m \u001b[1;31m#Referring to the 12th item of a list that has only 10 items\u001b[0m\u001b[1;33m\u001b[0m\u001b[1;33m\u001b[0m\u001b[1;33m\u001b[0m\u001b[0m\n\u001b[0;32m      2\u001b[0m \u001b[0mList\u001b[0m \u001b[1;33m=\u001b[0m \u001b[1;33m[\u001b[0m\u001b[1;36m1\u001b[0m\u001b[1;33m,\u001b[0m\u001b[1;36m2\u001b[0m\u001b[1;33m,\u001b[0m\u001b[1;36m3\u001b[0m\u001b[1;33m,\u001b[0m\u001b[1;36m4\u001b[0m\u001b[1;33m,\u001b[0m\u001b[1;36m5\u001b[0m\u001b[1;33m,\u001b[0m\u001b[1;36m6\u001b[0m\u001b[1;33m,\u001b[0m\u001b[1;36m7\u001b[0m\u001b[1;33m,\u001b[0m\u001b[1;36m8\u001b[0m\u001b[1;33m,\u001b[0m\u001b[1;36m9\u001b[0m\u001b[1;33m,\u001b[0m\u001b[1;36m0\u001b[0m\u001b[1;33m]\u001b[0m\u001b[1;33m\u001b[0m\u001b[1;33m\u001b[0m\u001b[0m\n\u001b[1;32m----> 3\u001b[1;33m \u001b[0mList\u001b[0m\u001b[1;33m[\u001b[0m\u001b[1;36m12\u001b[0m\u001b[1;33m]\u001b[0m\u001b[1;33m\u001b[0m\u001b[1;33m\u001b[0m\u001b[0m\n\u001b[0m",
      "\u001b[1;31mIndexError\u001b[0m: list index out of range"
     ]
    }
   ],
   "source": [
    "#Referring to the 12th item of a list that has only 10 items\n",
    "List = [1,2,3,4,5,6,7,8,9,0]\n",
    "List[12]\n",
    "#IndexError as the elemment 12 is not present in above list."
   ]
  },
  {
   "cell_type": "code",
   "execution_count": 38,
   "metadata": {},
   "outputs": [
    {
     "ename": "ValueError",
     "evalue": "math domain error",
     "output_type": "error",
     "traceback": [
      "\u001b[1;31m---------------------------------------------------------------------------\u001b[0m",
      "\u001b[1;31mValueError\u001b[0m                                Traceback (most recent call last)",
      "\u001b[1;32m<ipython-input-38-973e8f646c23>\u001b[0m in \u001b[0;36m<module>\u001b[1;34m\u001b[0m\n\u001b[0;32m      1\u001b[0m \u001b[1;31m#Using a value that is out of range for a function’s input, such as calling math.sqrt(-1.0)\u001b[0m\u001b[1;33m\u001b[0m\u001b[1;33m\u001b[0m\u001b[1;33m\u001b[0m\u001b[0m\n\u001b[0;32m      2\u001b[0m \u001b[1;32mimport\u001b[0m \u001b[0mmath\u001b[0m\u001b[1;33m\u001b[0m\u001b[1;33m\u001b[0m\u001b[0m\n\u001b[1;32m----> 3\u001b[1;33m \u001b[0mmath\u001b[0m\u001b[1;33m.\u001b[0m\u001b[0msqrt\u001b[0m\u001b[1;33m(\u001b[0m\u001b[1;33m-\u001b[0m\u001b[1;36m1.0\u001b[0m\u001b[1;33m)\u001b[0m\u001b[1;33m\u001b[0m\u001b[1;33m\u001b[0m\u001b[0m\n\u001b[0m",
      "\u001b[1;31mValueError\u001b[0m: math domain error"
     ]
    }
   ],
   "source": [
    "#Using a value that is out of range for a function’s input, such as calling math.sqrt(-1.0)\n",
    "import math\n",
    "math.sqrt(-1.0)\n",
    "#ValueError because the result of mentioned value doesnt exist in math domain."
   ]
  },
  {
   "cell_type": "code",
   "execution_count": 39,
   "metadata": {},
   "outputs": [
    {
     "ename": "NameError",
     "evalue": "name 'x' is not defined",
     "output_type": "error",
     "traceback": [
      "\u001b[1;31m---------------------------------------------------------------------------\u001b[0m",
      "\u001b[1;31mNameError\u001b[0m                                 Traceback (most recent call last)",
      "\u001b[1;32m<ipython-input-39-5e7be8979b51>\u001b[0m in \u001b[0;36m<module>\u001b[1;34m\u001b[0m\n\u001b[0;32m      1\u001b[0m \u001b[1;31m#Using an undeclared variable, such as print(x)whenxhas not been defined\u001b[0m\u001b[1;33m\u001b[0m\u001b[1;33m\u001b[0m\u001b[1;33m\u001b[0m\u001b[0m\n\u001b[1;32m----> 2\u001b[1;33m \u001b[0mprint\u001b[0m\u001b[1;33m(\u001b[0m\u001b[0mx\u001b[0m\u001b[1;33m)\u001b[0m\u001b[1;33m\u001b[0m\u001b[1;33m\u001b[0m\u001b[0m\n\u001b[0m",
      "\u001b[1;31mNameError\u001b[0m: name 'x' is not defined"
     ]
    }
   ],
   "source": [
    "#Using an undeclared variable, such as print(x)whenxhas not been defined\n",
    "print(x)\n",
    "#NameError  because x is not defined."
   ]
  },
  {
   "cell_type": "code",
   "execution_count": 41,
   "metadata": {},
   "outputs": [
    {
     "ename": "FileNotFoundError",
     "evalue": "[Errno 2] No such file or directory: 'example.txt'",
     "output_type": "error",
     "traceback": [
      "\u001b[1;31m---------------------------------------------------------------------------\u001b[0m",
      "\u001b[1;31mFileNotFoundError\u001b[0m                         Traceback (most recent call last)",
      "\u001b[1;32m<ipython-input-41-aa4e6671e742>\u001b[0m in \u001b[0;36m<module>\u001b[1;34m\u001b[0m\n\u001b[0;32m      1\u001b[0m \u001b[1;31m#Trying to open a file that does not exist, such as mistyping the file name or looking in the wrong directory.\u001b[0m\u001b[1;33m\u001b[0m\u001b[1;33m\u001b[0m\u001b[1;33m\u001b[0m\u001b[0m\n\u001b[1;32m----> 2\u001b[1;33m \u001b[0minfile\u001b[0m \u001b[1;33m=\u001b[0m \u001b[0mopen\u001b[0m\u001b[1;33m(\u001b[0m\u001b[1;34m'example.txt'\u001b[0m\u001b[1;33m,\u001b[0m \u001b[1;34m'rt'\u001b[0m\u001b[1;33m)\u001b[0m\u001b[1;33m\u001b[0m\u001b[1;33m\u001b[0m\u001b[0m\n\u001b[0m",
      "\u001b[1;31mFileNotFoundError\u001b[0m: [Errno 2] No such file or directory: 'example.txt'"
     ]
    }
   ],
   "source": [
    "#Trying to open a file that does not exist, such as mistyping the file name or looking in the wrong directory.\n",
    "infile = open('example.txt', 'rt')\n",
    "#FileNotFoundError because no such file or directory exists."
   ]
  },
  {
   "cell_type": "markdown",
   "metadata": {},
   "source": [
    "# Question 8"
   ]
  },
  {
   "cell_type": "markdown",
   "metadata": {},
   "source": [
    "**Encryptionis the process of hiding the meaning of a text by substituting letters in the message with other letters, according to some system. If the process is successful, no one but the intended recipient can understand the encrypted message. Cryptanalysisrefers to attempts to undo the encryption, even if some details of the encryption are unknown (for example, if an encrypted message has been intercepted). The first step of cryptanalysisis often to build up a table of letter frequencies in the encrypted text. Assume that the string lettersis already defined as 'abcdefghijklmnopqrstuvwxyz'. Write a function called frequencies()that takes a string as its only parameter, and returns a list of integers, showing the number of times each character appears in the text. Your function may ignore any characters that are not in letters.**"
   ]
  },
  {
   "cell_type": "code",
   "execution_count": 4,
   "metadata": {},
   "outputs": [],
   "source": [
    "def frequencies(string):                                                         #User-Defined Function Creation\n",
    "    \"function to check Frequency of alphabets in given string\"                   #Docstring Creation\n",
    "    letterString=\"abcdefghijklmnopqrstuvwxyz\"                                    #Alphabetical String\n",
    "    frequenList=[]                                                               #Empty List Initially\n",
    "    for x in range(0,len(letterString)-1):\n",
    "        frequenList.append((string.count(letterString[x])))                      \n",
    "    return frequenList"
   ]
  },
  {
   "cell_type": "code",
   "execution_count": 5,
   "metadata": {},
   "outputs": [
    {
     "data": {
      "text/plain": [
       "[1, 1, 1, 3, 5, 1, 1, 2, 1, 0, 1, 0, 1, 2, 4, 0, 1, 2, 0, 2, 1, 0, 1, 1, 0]"
      ]
     },
     "execution_count": 5,
     "metadata": {},
     "output_type": "execute_result"
    }
   ],
   "source": [
    "frequencies('The quick red fox got bored and went home.')"
   ]
  },
  {
   "cell_type": "code",
   "execution_count": 6,
   "metadata": {},
   "outputs": [
    {
     "data": {
      "text/plain": [
       "[1, 0, 0, 0, 1, 0, 0, 0, 0, 0, 0, 1, 0, 0, 0, 2, 0, 0, 0, 0, 0, 0, 0, 0, 0]"
      ]
     },
     "execution_count": 6,
     "metadata": {},
     "output_type": "execute_result"
    }
   ],
   "source": [
    "frequencies('apple')"
   ]
  },
  {
   "cell_type": "markdown",
   "metadata": {},
   "source": [
    "# Question 9\n",
    "\n",
    "**The Sieve of Erastophenesis an algorithm --known to ancient Greeks --that finds all prime numbers up to a given number n. It does this by first creating a list Lfrom 2 to n and an (initially empty) list primeL. The algorithm then takes the first number in list L(2) and appends it to list primeL, and then removes 2 and all its multiples (4,6,8,10,12, ...) from L. The algorithm then takes the new first number in L(3) and appends it to list primeL, and then removes from L 3 and all its remaining multiples (9,15,21,...). So, in every iteration, the first number of list Lis appended to list primeLand then it and its multiples are removed from list L. The iterations stop when list Lbecomes empty. Write a functionsieve()that takes as input a positive integer n, implements the above algorithm, and returns a list of all prime numbers up to n.**"
   ]
  },
  {
   "cell_type": "code",
   "execution_count": 2,
   "metadata": {},
   "outputs": [],
   "source": [
    "def sieve(integer):                               #User-Defined Function Creation\n",
    "    \"function to check Sieve of Erastophenes\"     #Docstring Creation\n",
    "    primeL=[]                                     #prime numbers are later appended into this empty string\n",
    "    L=[]                                          #Filteration is later performed on this list\n",
    "    for x in range(2,integer):\n",
    "        L.append(x)\n",
    "    while len(L)!=0: \n",
    "        firstElement=L[0]\n",
    "        primeL.append(firstElement)\n",
    "        for x in L:\n",
    "            if(x%firstElement==0):\n",
    "                L.remove(x)\n",
    "    return primeL"
   ]
  },
  {
   "cell_type": "code",
   "execution_count": 5,
   "metadata": {},
   "outputs": [
    {
     "data": {
      "text/plain": [
       "[2, 3, 5, 7, 11, 13, 17, 19, 23, 29, 31, 37, 41, 43, 47, 53]"
      ]
     },
     "execution_count": 5,
     "metadata": {},
     "output_type": "execute_result"
    }
   ],
   "source": [
    "sieve (56)"
   ]
  },
  {
   "cell_type": "code",
   "execution_count": 6,
   "metadata": {},
   "outputs": [
    {
     "data": {
      "text/plain": [
       "[2,\n",
       " 3,\n",
       " 5,\n",
       " 7,\n",
       " 11,\n",
       " 13,\n",
       " 17,\n",
       " 19,\n",
       " 23,\n",
       " 29,\n",
       " 31,\n",
       " 37,\n",
       " 41,\n",
       " 43,\n",
       " 47,\n",
       " 53,\n",
       " 59,\n",
       " 61,\n",
       " 67,\n",
       " 71,\n",
       " 73,\n",
       " 79,\n",
       " 83,\n",
       " 89,\n",
       " 97,\n",
       " 101,\n",
       " 103,\n",
       " 107,\n",
       " 109,\n",
       " 113,\n",
       " 127,\n",
       " 131,\n",
       " 137,\n",
       " 139,\n",
       " 149,\n",
       " 151,\n",
       " 157,\n",
       " 163,\n",
       " 167,\n",
       " 173,\n",
       " 179,\n",
       " 181,\n",
       " 191,\n",
       " 193,\n",
       " 197,\n",
       " 199,\n",
       " 211,\n",
       " 223,\n",
       " 227,\n",
       " 229,\n",
       " 233,\n",
       " 239,\n",
       " 241,\n",
       " 251,\n",
       " 257,\n",
       " 263,\n",
       " 269,\n",
       " 271,\n",
       " 277,\n",
       " 281,\n",
       " 283,\n",
       " 293,\n",
       " 307,\n",
       " 311,\n",
       " 313,\n",
       " 317,\n",
       " 331,\n",
       " 337,\n",
       " 347,\n",
       " 349,\n",
       " 353,\n",
       " 359,\n",
       " 367]"
      ]
     },
     "execution_count": 6,
     "metadata": {},
     "output_type": "execute_result"
    }
   ],
   "source": [
    "sieve (368)"
   ]
  },
  {
   "cell_type": "markdown",
   "metadata": {},
   "source": [
    "# Question 10"
   ]
  },
  {
   "cell_type": "markdown",
   "metadata": {},
   "source": [
    "**Implement function triangleArea(a,b,c)that takes as input the lengths of the 3sides of a triangle and returnsthe area of the triangle.By Heron's formula, the area of a triangle with side lengths a, b, and c is (s(s-a)(s-b)(s-c))1/2, where s=(a+b+c)/2.**"
   ]
  },
  {
   "cell_type": "code",
   "execution_count": 1,
   "metadata": {},
   "outputs": [
    {
     "name": "stdout",
     "output_type": "stream",
     "text": [
      "Enter the length of first side a: 2\n",
      "Enter the length of second side b: 2\n",
      "Enter the length of third side c: 2\n",
      "The Area of triangle with the mentioned three sides is  1.7320508075688772\n"
     ]
    }
   ],
   "source": [
    "import math\n",
    "a = int(input('Enter the length of first side a: '))   #input for first side a\n",
    "b = int(input('Enter the length of second side b: '))  #input for second side b\n",
    "c = int(input('Enter the length of third side c: '))   #input for third side c\n",
    "s = int((a+b+c) / 2)                                   #Here s represents half of perimeter of triangle from above 3 values\n",
    "def triangleArea(a,b,c):                               #User Defined Function triangleArea defined\n",
    "    \"returns area of triangle as per Heron's Formula\"  #Docstring creation\n",
    "    res = math.sqrt(s*(s-a)*(s-b)*(s-c))               #Math Behind formula\n",
    "    return res                                         #Returns result of above math\n",
    "print (\"The Area of triangle with the mentioned three sides is \",triangleArea(a, b, c))"
   ]
  },
  {
   "cell_type": "code",
   "execution_count": 50,
   "metadata": {},
   "outputs": [],
   "source": [
    "def delete_func(func):\n",
    "    del globals()[func.bldcount]"
   ]
  },
  {
   "cell_type": "code",
   "execution_count": null,
   "metadata": {},
   "outputs": [],
   "source": []
  }
 ],
 "metadata": {
  "kernelspec": {
   "display_name": "Python 3",
   "language": "python",
   "name": "python3"
  },
  "language_info": {
   "codemirror_mode": {
    "name": "ipython",
    "version": 3
   },
   "file_extension": ".py",
   "mimetype": "text/x-python",
   "name": "python",
   "nbconvert_exporter": "python",
   "pygments_lexer": "ipython3",
   "version": "3.7.6"
  }
 },
 "nbformat": 4,
 "nbformat_minor": 4
}
